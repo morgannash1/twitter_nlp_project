{
 "cells": [
  {
   "cell_type": "markdown",
   "id": "b5819d71-cfcb-4cc0-90f1-820bab26fdbe",
   "metadata": {},
   "source": [
    "# Twitter NLP Project"
   ]
  },
  {
   "cell_type": "markdown",
   "id": "f5ea5a1c-ec0a-4581-b694-30c9234d2631",
   "metadata": {},
   "source": [
    "Morgan Nash"
   ]
  },
  {
   "cell_type": "markdown",
   "id": "4fbf434d-727e-418a-bd00-0dd9a70e7fa9",
   "metadata": {},
   "source": [
    "November 2025"
   ]
  },
  {
   "cell_type": "markdown",
   "id": "826b9df0-b4ea-4297-ae0e-2510f4cba69a",
   "metadata": {},
   "source": [
    "The presence of social media today allows for instant communication which presents issues for companies to deal with. \"Cancel culture\" allows for massive volumes and rapid escalations of social media complaints. Ineffective monitoring leads to slow crisis response, missed customer service opportunities, and permanent brand damage for companies when \"dragged\" online."
   ]
  },
  {
   "cell_type": "markdown",
   "id": "655f0e55-0a7e-4fb0-9189-c3f75d876f32",
   "metadata": {},
   "source": [
    "#### Goal of Implementing an NLP Model:\n",
    "To provide any business with a highly effective Real-Time Screening System capable of\n",
    "- Immediate Crisis Detection: Instantly identifying and routing urgent, negative sentiments online related to products, services, or brand actions.\n",
    "- Operational Efficiency: Quantifying public opinion to prioritize support tickets and allocate resources efficiently, moving from reactive chaos to proactive management.\n",
    "\n",
    "\n",
    "Multiclass Target: Negative, Neutral, Positive"
   ]
  },
  {
   "cell_type": "markdown",
   "id": "6dd5f4f6-6b7d-40e1-a1f1-dbc34b76c86a",
   "metadata": {},
   "source": [
    "\"The notebook should include a summary at the beginning that briefly and accurately describes your process. The summary should be approximately 250 words -- about the size of a research paper abstract.\n",
    "\n",
    "Summary elements:\n",
    "\n",
    "Business and data understanding: what kind of data are you using, and what makes it well-suited for the business problem?\n",
    "You do not need to include any data visualizations in your summary, but consider including relevant descriptive statistics\n",
    "Data preparation: why did you choose the data preparation steps that you did, and what was the result?\n",
    "This should be specific to the kind of data you are working with. For example, if you are doing an NLP project, what did you decide to do with stopwords?\n",
    "Be sure to list the packages/libraries used to prepare the data, and why\n",
    "Modeling: what modeling package(s) did you use, which model(s) within the package(s), and what tuning steps did you take?\n",
    "For some projects there may be only one applicable package; you should still briefly explain why this was the appropriate choice\n",
    "Evaluation: how well did your final model perform?\n",
    "Include one or more relevant metrics\n",
    "Be sure to briefly describe your validation approach\""
   ]
  },
  {
   "cell_type": "markdown",
   "id": "69ebbdcb-cefe-4667-9674-6e168de7125c",
   "metadata": {},
   "source": [
    "# Objective"
   ]
  },
  {
   "cell_type": "markdown",
   "id": "6771524b-d241-4ebf-91e1-c08ada6df1e3",
   "metadata": {},
   "source": [
    "\"Contributors evaluated tweets about multiple brands and products. The crowd was asked if the tweet expressed positive, negative, or no emotion towards a brand and/or product. If some emotion was expressed they were also asked to say which brand or product was the target of that emotion. Added: August 30, 2013 by Kent Cavender-Bares | Data Rows: 9093 Download Now\" from data.world"
   ]
  },
  {
   "cell_type": "markdown",
   "id": "0ff1e537-6bcb-43f4-9afd-ffe568d7fc9b",
   "metadata": {},
   "source": [
    "- TASK Topic 3: Natural Language Processing (NLP)\n",
    "- If you choose this option, you'll build an NLP model to analyze Twitter sentiment about Apple and Google products. The dataset comes from CrowdFlower via data.world. Human raters rated the sentiment in over 9,000 Tweets as positive, negative, or neither.\n",
    "\n",
    "- Your task is to:\n",
    "\n",
    "- Build a model that can rate the sentiment of a Tweet based on its content.\n",
    "\n",
    "- Aim for a Proof of Concept\n",
    "- There are many approaches to NLP problems - start with something simple and iterate from there. For example, you could start by limiting your analysis to positive and negative Tweets only, allowing you to build a binary classifier. Then you could add in the neutral Tweets to build out a multiclass classifier.\n",
    "\n",
    "- Evaluation\n",
    "- Evaluating multiclass classifiers can be trickier than binary classifiers because there are multiple ways to mis-classify an observation, and some errors are more problematic than others. Use the business problem that your NLP project sets out to solve to inform your choice of evaluation metrics."
   ]
  },
  {
   "cell_type": "code",
   "execution_count": null,
   "id": "5cc4942d-311e-4d80-a55d-d471f44f2d43",
   "metadata": {},
   "outputs": [],
   "source": []
  },
  {
   "cell_type": "code",
   "execution_count": null,
   "id": "ef68c4ab-0d37-4b4f-9456-2edf915430f1",
   "metadata": {},
   "outputs": [],
   "source": []
  },
  {
   "cell_type": "markdown",
   "id": "24120993-bbe0-4516-a851-d16b8467bac9",
   "metadata": {},
   "source": [
    "## Data Preparation"
   ]
  },
  {
   "cell_type": "code",
   "execution_count": 43,
   "id": "d17a37c6-5d21-40dc-b05b-a6e3909a1163",
   "metadata": {},
   "outputs": [],
   "source": [
    "#import libraries\n",
    "import pandas as pd\n",
    "import numpy as np\n",
    "import matplotlib.pyplot as plt\n",
    "%matplotlib inline\n",
    "import nltk\n",
    "import string\n",
    "from nltk import FreqDist\n",
    "import seaborn as sns\n",
    "import re\n",
    "from nltk.tokenize import TweetTokenizer, word_tokenize\n",
    "from nltk.corpus import stopwords\n",
    "from nltk.tokenize import RegexpTokenizer\n",
    "from sklearn.preprocessing import OneHotEncoder\n",
    "from sklearn.feature_extraction.text import TfidfVectorizer, ENGLISH_STOP_WORDS\n",
    "from sklearn.feature_extraction.text import CountVectorizer\n",
    "from nltk.stem import PorterStemmer\n",
    "from sklearn.naive_bayes import MultinomialNB\n",
    "from sklearn.model_selection import cross_val_score\n",
    "from sklearn.compose import ColumnTransformer\n",
    "from sklearn.pipeline import Pipeline\n",
    "from sklearn.model_selection import train_test_split, cross_validate, GridSearchCV\n",
    "from sklearn.metrics import confusion_matrix\n",
    "from sklearn.metrics import ConfusionMatrixDisplay\n",
    "from sklearn.metrics import accuracy_score, classification_report\n",
    "from sklearn.dummy import DummyClassifier"
   ]
  },
  {
   "cell_type": "code",
   "execution_count": 2,
   "id": "165884d0-128f-4c0a-9e8a-18731569a633",
   "metadata": {},
   "outputs": [
    {
     "data": {
      "text/html": [
       "<div>\n",
       "<style scoped>\n",
       "    .dataframe tbody tr th:only-of-type {\n",
       "        vertical-align: middle;\n",
       "    }\n",
       "\n",
       "    .dataframe tbody tr th {\n",
       "        vertical-align: top;\n",
       "    }\n",
       "\n",
       "    .dataframe thead th {\n",
       "        text-align: right;\n",
       "    }\n",
       "</style>\n",
       "<table border=\"1\" class=\"dataframe\">\n",
       "  <thead>\n",
       "    <tr style=\"text-align: right;\">\n",
       "      <th></th>\n",
       "      <th>tweet_text</th>\n",
       "      <th>emotion_in_tweet_is_directed_at</th>\n",
       "      <th>is_there_an_emotion_directed_at_a_brand_or_product</th>\n",
       "    </tr>\n",
       "  </thead>\n",
       "  <tbody>\n",
       "    <tr>\n",
       "      <th>0</th>\n",
       "      <td>.@wesley83 I have a 3G iPhone. After 3 hrs twe...</td>\n",
       "      <td>iPhone</td>\n",
       "      <td>Negative emotion</td>\n",
       "    </tr>\n",
       "    <tr>\n",
       "      <th>1</th>\n",
       "      <td>@jessedee Know about @fludapp ? Awesome iPad/i...</td>\n",
       "      <td>iPad or iPhone App</td>\n",
       "      <td>Positive emotion</td>\n",
       "    </tr>\n",
       "    <tr>\n",
       "      <th>2</th>\n",
       "      <td>@swonderlin Can not wait for #iPad 2 also. The...</td>\n",
       "      <td>iPad</td>\n",
       "      <td>Positive emotion</td>\n",
       "    </tr>\n",
       "    <tr>\n",
       "      <th>3</th>\n",
       "      <td>@sxsw I hope this year's festival isn't as cra...</td>\n",
       "      <td>iPad or iPhone App</td>\n",
       "      <td>Negative emotion</td>\n",
       "    </tr>\n",
       "    <tr>\n",
       "      <th>4</th>\n",
       "      <td>@sxtxstate great stuff on Fri #SXSW: Marissa M...</td>\n",
       "      <td>Google</td>\n",
       "      <td>Positive emotion</td>\n",
       "    </tr>\n",
       "  </tbody>\n",
       "</table>\n",
       "</div>"
      ],
      "text/plain": [
       "                                          tweet_text  \\\n",
       "0  .@wesley83 I have a 3G iPhone. After 3 hrs twe...   \n",
       "1  @jessedee Know about @fludapp ? Awesome iPad/i...   \n",
       "2  @swonderlin Can not wait for #iPad 2 also. The...   \n",
       "3  @sxsw I hope this year's festival isn't as cra...   \n",
       "4  @sxtxstate great stuff on Fri #SXSW: Marissa M...   \n",
       "\n",
       "  emotion_in_tweet_is_directed_at  \\\n",
       "0                          iPhone   \n",
       "1              iPad or iPhone App   \n",
       "2                            iPad   \n",
       "3              iPad or iPhone App   \n",
       "4                          Google   \n",
       "\n",
       "  is_there_an_emotion_directed_at_a_brand_or_product  \n",
       "0                                   Negative emotion  \n",
       "1                                   Positive emotion  \n",
       "2                                   Positive emotion  \n",
       "3                                   Negative emotion  \n",
       "4                                   Positive emotion  "
      ]
     },
     "execution_count": 2,
     "metadata": {},
     "output_type": "execute_result"
    }
   ],
   "source": [
    "#load and preview dataset\n",
    "data = pd.read_csv('data/judge-1377884607_tweet_product_company.csv', encoding = 'unicode_escape')\n",
    "data.head()"
   ]
  },
  {
   "cell_type": "code",
   "execution_count": 3,
   "id": "49199fc8-27fb-48d8-b4af-cac3ff1ac625",
   "metadata": {},
   "outputs": [
    {
     "data": {
      "text/html": [
       "<div>\n",
       "<style scoped>\n",
       "    .dataframe tbody tr th:only-of-type {\n",
       "        vertical-align: middle;\n",
       "    }\n",
       "\n",
       "    .dataframe tbody tr th {\n",
       "        vertical-align: top;\n",
       "    }\n",
       "\n",
       "    .dataframe thead th {\n",
       "        text-align: right;\n",
       "    }\n",
       "</style>\n",
       "<table border=\"1\" class=\"dataframe\">\n",
       "  <thead>\n",
       "    <tr style=\"text-align: right;\">\n",
       "      <th></th>\n",
       "      <th>tweet</th>\n",
       "      <th>product_name</th>\n",
       "      <th>sentiment</th>\n",
       "    </tr>\n",
       "  </thead>\n",
       "  <tbody>\n",
       "    <tr>\n",
       "      <th>0</th>\n",
       "      <td>.@wesley83 I have a 3G iPhone. After 3 hrs twe...</td>\n",
       "      <td>iPhone</td>\n",
       "      <td>Negative emotion</td>\n",
       "    </tr>\n",
       "    <tr>\n",
       "      <th>1</th>\n",
       "      <td>@jessedee Know about @fludapp ? Awesome iPad/i...</td>\n",
       "      <td>iPad or iPhone App</td>\n",
       "      <td>Positive emotion</td>\n",
       "    </tr>\n",
       "    <tr>\n",
       "      <th>2</th>\n",
       "      <td>@swonderlin Can not wait for #iPad 2 also. The...</td>\n",
       "      <td>iPad</td>\n",
       "      <td>Positive emotion</td>\n",
       "    </tr>\n",
       "    <tr>\n",
       "      <th>3</th>\n",
       "      <td>@sxsw I hope this year's festival isn't as cra...</td>\n",
       "      <td>iPad or iPhone App</td>\n",
       "      <td>Negative emotion</td>\n",
       "    </tr>\n",
       "    <tr>\n",
       "      <th>4</th>\n",
       "      <td>@sxtxstate great stuff on Fri #SXSW: Marissa M...</td>\n",
       "      <td>Google</td>\n",
       "      <td>Positive emotion</td>\n",
       "    </tr>\n",
       "  </tbody>\n",
       "</table>\n",
       "</div>"
      ],
      "text/plain": [
       "                                               tweet        product_name  \\\n",
       "0  .@wesley83 I have a 3G iPhone. After 3 hrs twe...              iPhone   \n",
       "1  @jessedee Know about @fludapp ? Awesome iPad/i...  iPad or iPhone App   \n",
       "2  @swonderlin Can not wait for #iPad 2 also. The...                iPad   \n",
       "3  @sxsw I hope this year's festival isn't as cra...  iPad or iPhone App   \n",
       "4  @sxtxstate great stuff on Fri #SXSW: Marissa M...              Google   \n",
       "\n",
       "          sentiment  \n",
       "0  Negative emotion  \n",
       "1  Positive emotion  \n",
       "2  Positive emotion  \n",
       "3  Negative emotion  \n",
       "4  Positive emotion  "
      ]
     },
     "execution_count": 3,
     "metadata": {},
     "output_type": "execute_result"
    }
   ],
   "source": [
    "#rename columns (the original labels are bulky)\n",
    "data = data.rename(columns = {'tweet_text': 'tweet', \n",
    "                         'emotion_in_tweet_is_directed_at': 'product_name', \n",
    "                         'is_there_an_emotion_directed_at_a_brand_or_product': 'sentiment'}) \n",
    "data.head() "
   ]
  },
  {
   "cell_type": "code",
   "execution_count": 4,
   "id": "cac2fce0-dab1-4c3f-b6aa-ccca30c2076b",
   "metadata": {},
   "outputs": [
    {
     "name": "stdout",
     "output_type": "stream",
     "text": [
      "<class 'pandas.core.frame.DataFrame'>\n",
      "RangeIndex: 9093 entries, 0 to 9092\n",
      "Data columns (total 3 columns):\n",
      " #   Column        Non-Null Count  Dtype \n",
      "---  ------        --------------  ----- \n",
      " 0   tweet         9092 non-null   object\n",
      " 1   product_name  3291 non-null   object\n",
      " 2   sentiment     9093 non-null   object\n",
      "dtypes: object(3)\n",
      "memory usage: 213.2+ KB\n"
     ]
    }
   ],
   "source": [
    "data.info()"
   ]
  },
  {
   "cell_type": "code",
   "execution_count": 5,
   "id": "d40980da-1715-4a65-a4c7-79172b170713",
   "metadata": {},
   "outputs": [
    {
     "name": "stdout",
     "output_type": "stream",
     "text": [
      "<class 'pandas.core.frame.DataFrame'>\n",
      "RangeIndex: 9093 entries, 0 to 9092\n",
      "Data columns (total 3 columns):\n",
      " #   Column        Non-Null Count  Dtype \n",
      "---  ------        --------------  ----- \n",
      " 0   tweet         9092 non-null   object\n",
      " 1   product_name  9093 non-null   object\n",
      " 2   sentiment     9093 non-null   object\n",
      "dtypes: object(3)\n",
      "memory usage: 213.2+ KB\n"
     ]
    }
   ],
   "source": [
    "#replace null values in product_name column with \"unspecified\"\n",
    "data['product_name'].fillna('unspecified', inplace = True) \n",
    "data.info()"
   ]
  },
  {
   "cell_type": "code",
   "execution_count": 6,
   "id": "36bfe8a7-6c08-46d3-bd16-230a2b1d84e7",
   "metadata": {},
   "outputs": [
    {
     "name": "stdout",
     "output_type": "stream",
     "text": [
      "22\n",
      "tweet           1\n",
      "product_name    0\n",
      "sentiment       0\n",
      "dtype: int64\n"
     ]
    }
   ],
   "source": [
    "#check for duplicate rows\n",
    "print(data.duplicated().sum()) \n",
    "#check for null entries\n",
    "print(data.isna().sum()) "
   ]
  },
  {
   "cell_type": "code",
   "execution_count": 7,
   "id": "dc9d438e-3c8e-4d38-87ab-b89bf04b8b85",
   "metadata": {},
   "outputs": [],
   "source": [
    "#remove 22 duplicates\n",
    "data.drop_duplicates(inplace = True)\n",
    "#drop the one entry missing tweet\n",
    "data.dropna(subset = ['tweet'], inplace = True)"
   ]
  },
  {
   "cell_type": "code",
   "execution_count": 8,
   "id": "cf5bd130-2b03-4331-a726-a531ae087942",
   "metadata": {},
   "outputs": [],
   "source": [
    "#reset index\n",
    "data = data.reset_index(drop=True)"
   ]
  },
  {
   "cell_type": "code",
   "execution_count": 9,
   "id": "51e2644a-ae05-4768-82b2-98bab6f198c6",
   "metadata": {},
   "outputs": [
    {
     "name": "stdout",
     "output_type": "stream",
     "text": [
      "<class 'pandas.core.frame.DataFrame'>\n",
      "RangeIndex: 9070 entries, 0 to 9069\n",
      "Data columns (total 3 columns):\n",
      " #   Column        Non-Null Count  Dtype \n",
      "---  ------        --------------  ----- \n",
      " 0   tweet         9070 non-null   object\n",
      " 1   product_name  9070 non-null   object\n",
      " 2   sentiment     9070 non-null   object\n",
      "dtypes: object(3)\n",
      "memory usage: 212.7+ KB\n"
     ]
    }
   ],
   "source": [
    "data.info()"
   ]
  },
  {
   "cell_type": "code",
   "execution_count": 10,
   "id": "efe41ea0-8d4e-4a8e-8a47-cb747d23f372",
   "metadata": {},
   "outputs": [
    {
     "data": {
      "text/html": [
       "<div>\n",
       "<style scoped>\n",
       "    .dataframe tbody tr th:only-of-type {\n",
       "        vertical-align: middle;\n",
       "    }\n",
       "\n",
       "    .dataframe tbody tr th {\n",
       "        vertical-align: top;\n",
       "    }\n",
       "\n",
       "    .dataframe thead th {\n",
       "        text-align: right;\n",
       "    }\n",
       "</style>\n",
       "<table border=\"1\" class=\"dataframe\">\n",
       "  <thead>\n",
       "    <tr style=\"text-align: right;\">\n",
       "      <th></th>\n",
       "      <th>tweet</th>\n",
       "      <th>product_name</th>\n",
       "      <th>sentiment</th>\n",
       "    </tr>\n",
       "  </thead>\n",
       "  <tbody>\n",
       "    <tr>\n",
       "      <th>0</th>\n",
       "      <td>.@wesley83 I have a 3G iPhone. After 3 hrs tweeting at #RISE_Austin, it was dead!  I need to upgrade. Plugin stations at #SXSW.</td>\n",
       "      <td>iPhone</td>\n",
       "      <td>Negative emotion</td>\n",
       "    </tr>\n",
       "    <tr>\n",
       "      <th>1</th>\n",
       "      <td>@jessedee Know about @fludapp ? Awesome iPad/iPhone app that you'll likely appreciate for its design. Also, they're giving free Ts at #SXSW</td>\n",
       "      <td>iPad or iPhone App</td>\n",
       "      <td>Positive emotion</td>\n",
       "    </tr>\n",
       "    <tr>\n",
       "      <th>2</th>\n",
       "      <td>@swonderlin Can not wait for #iPad 2 also. They should sale them down at #SXSW.</td>\n",
       "      <td>iPad</td>\n",
       "      <td>Positive emotion</td>\n",
       "    </tr>\n",
       "    <tr>\n",
       "      <th>3</th>\n",
       "      <td>@sxsw I hope this year's festival isn't as crashy as this year's iPhone app. #sxsw</td>\n",
       "      <td>iPad or iPhone App</td>\n",
       "      <td>Negative emotion</td>\n",
       "    </tr>\n",
       "    <tr>\n",
       "      <th>4</th>\n",
       "      <td>@sxtxstate great stuff on Fri #SXSW: Marissa Mayer (Google), Tim O'Reilly (tech books/conferences) &amp;amp; Matt Mullenweg (Wordpress)</td>\n",
       "      <td>Google</td>\n",
       "      <td>Positive emotion</td>\n",
       "    </tr>\n",
       "    <tr>\n",
       "      <th>5</th>\n",
       "      <td>@teachntech00 New iPad Apps For #SpeechTherapy And Communication Are Showcased At The #SXSW Conference http://ht.ly/49n4M #iear #edchat #asd</td>\n",
       "      <td>unspecified</td>\n",
       "      <td>No emotion toward brand or product</td>\n",
       "    </tr>\n",
       "    <tr>\n",
       "      <th>6</th>\n",
       "      <td>#SXSW is just starting, #CTIA is around the corner and #googleio is only a hop skip and a jump from there, good time to be an #android fan</td>\n",
       "      <td>Android</td>\n",
       "      <td>Positive emotion</td>\n",
       "    </tr>\n",
       "    <tr>\n",
       "      <th>7</th>\n",
       "      <td>Beautifully smart and simple idea RT @madebymany @thenextweb wrote about our #hollergram iPad app for #sxsw! http://bit.ly/ieaVOB</td>\n",
       "      <td>iPad or iPhone App</td>\n",
       "      <td>Positive emotion</td>\n",
       "    </tr>\n",
       "    <tr>\n",
       "      <th>8</th>\n",
       "      <td>Counting down the days to #sxsw plus strong Canadian dollar means stock up on Apple gear</td>\n",
       "      <td>Apple</td>\n",
       "      <td>Positive emotion</td>\n",
       "    </tr>\n",
       "    <tr>\n",
       "      <th>9</th>\n",
       "      <td>Excited to meet the @samsungmobileus at #sxsw so I can show them my Sprint Galaxy S still running Android 2.1.   #fail</td>\n",
       "      <td>Android</td>\n",
       "      <td>Positive emotion</td>\n",
       "    </tr>\n",
       "    <tr>\n",
       "      <th>10</th>\n",
       "      <td>Find &amp;amp; Start Impromptu Parties at #SXSW With @HurricaneParty http://bit.ly/gVLrIn I can't wait til the Android app comes out.</td>\n",
       "      <td>Android App</td>\n",
       "      <td>Positive emotion</td>\n",
       "    </tr>\n",
       "    <tr>\n",
       "      <th>11</th>\n",
       "      <td>Foursquare ups the game, just in time for #SXSW http://j.mp/grN7pK) - Still prefer @Gowalla by far, best looking Android app to date.</td>\n",
       "      <td>Android App</td>\n",
       "      <td>Positive emotion</td>\n",
       "    </tr>\n",
       "    <tr>\n",
       "      <th>12</th>\n",
       "      <td>Gotta love this #SXSW Google Calendar featuring top parties/ show cases to check out.  RT @hamsandwich via @ischafer =&amp;gt;http://bit.ly/aXZwxB</td>\n",
       "      <td>Other Google product or service</td>\n",
       "      <td>Positive emotion</td>\n",
       "    </tr>\n",
       "    <tr>\n",
       "      <th>13</th>\n",
       "      <td>Great #sxsw ipad app from @madebymany: http://tinyurl.com/4nqv92l</td>\n",
       "      <td>iPad or iPhone App</td>\n",
       "      <td>Positive emotion</td>\n",
       "    </tr>\n",
       "    <tr>\n",
       "      <th>14</th>\n",
       "      <td>haha, awesomely rad iPad app by @madebymany http://bit.ly/hTdFim #hollergram #sxsw</td>\n",
       "      <td>iPad or iPhone App</td>\n",
       "      <td>Positive emotion</td>\n",
       "    </tr>\n",
       "    <tr>\n",
       "      <th>15</th>\n",
       "      <td>Holler Gram for iPad on the iTunes App Store -  http://t.co/kfN3f5Q (via @marc_is_ken) #sxsw</td>\n",
       "      <td>unspecified</td>\n",
       "      <td>No emotion toward brand or product</td>\n",
       "    </tr>\n",
       "    <tr>\n",
       "      <th>16</th>\n",
       "      <td>I just noticed DST is coming this weekend. How many iPhone users will be an hour late at SXSW come Sunday morning? #SXSW #iPhone</td>\n",
       "      <td>iPhone</td>\n",
       "      <td>Negative emotion</td>\n",
       "    </tr>\n",
       "    <tr>\n",
       "      <th>17</th>\n",
       "      <td>Just added my #SXSW flights to @planely. Matching people on planes/airports. Also downloaded the @KLM iPhone app, nicely done.</td>\n",
       "      <td>iPad or iPhone App</td>\n",
       "      <td>Positive emotion</td>\n",
       "    </tr>\n",
       "    <tr>\n",
       "      <th>18</th>\n",
       "      <td>Must have #SXSW app! RT @malbonster: Lovely review from Forbes for our SXSW iPad app Holler Gram - http://t.co/g4GZypV</td>\n",
       "      <td>iPad or iPhone App</td>\n",
       "      <td>Positive emotion</td>\n",
       "    </tr>\n",
       "    <tr>\n",
       "      <th>19</th>\n",
       "      <td>Need to buy an iPad2 while I'm in Austin at #sxsw. Not sure if I'll need to Q up at an Austin Apple store?</td>\n",
       "      <td>iPad</td>\n",
       "      <td>Positive emotion</td>\n",
       "    </tr>\n",
       "    <tr>\n",
       "      <th>20</th>\n",
       "      <td>Oh. My. God. The #SXSW app for iPad is pure, unadulterated awesome. It's easier to browse events on iPad than on the website!!!</td>\n",
       "      <td>iPad or iPhone App</td>\n",
       "      <td>Positive emotion</td>\n",
       "    </tr>\n",
       "    <tr>\n",
       "      <th>21</th>\n",
       "      <td>Okay, this is really it: yay new @Foursquare for #Android app!!!!11 kthxbai. #sxsw</td>\n",
       "      <td>Android App</td>\n",
       "      <td>Positive emotion</td>\n",
       "    </tr>\n",
       "    <tr>\n",
       "      <th>22</th>\n",
       "      <td>Photo: Just installed the #SXSW iPhone app, which is really nice! http://tumblr.com/x6t1pi6av7</td>\n",
       "      <td>iPad or iPhone App</td>\n",
       "      <td>Positive emotion</td>\n",
       "    </tr>\n",
       "    <tr>\n",
       "      <th>23</th>\n",
       "      <td>Really enjoying the changes in Gowalla 3.0 for Android! Looking forward to seeing what else they &amp;amp; Foursquare have up their sleeves at #SXSW</td>\n",
       "      <td>Android App</td>\n",
       "      <td>Positive emotion</td>\n",
       "    </tr>\n",
       "    <tr>\n",
       "      <th>24</th>\n",
       "      <td>RT @LaurieShook: I'm looking forward to the #SMCDallas pre #SXSW party Wed., and hoping I'll win an #iPad resulting from my shameless promotion.  #ChevySMC</td>\n",
       "      <td>iPad</td>\n",
       "      <td>Positive emotion</td>\n",
       "    </tr>\n",
       "    <tr>\n",
       "      <th>25</th>\n",
       "      <td>RT haha, awesomely rad iPad app by @madebymany http://bit.ly/hTdFim #hollergram #sxsw (via @michaelpiliero)</td>\n",
       "      <td>iPad or iPhone App</td>\n",
       "      <td>Positive emotion</td>\n",
       "    </tr>\n",
       "    <tr>\n",
       "      <th>26</th>\n",
       "      <td>someone started an #austin @PartnerHub group in google groups, pre-#sxsw. great idea</td>\n",
       "      <td>Other Google product or service</td>\n",
       "      <td>Positive emotion</td>\n",
       "    </tr>\n",
       "    <tr>\n",
       "      <th>27</th>\n",
       "      <td>The new #4sq3 looks like it is going to rock. Update for iPhone and Android should push tonight http://bit.ly/etsbZk #SXSW #KeepAustinWeird</td>\n",
       "      <td>iPad or iPhone App</td>\n",
       "      <td>Positive emotion</td>\n",
       "    </tr>\n",
       "    <tr>\n",
       "      <th>28</th>\n",
       "      <td>They were right, the @gowalla 3 app on #android is sweeeeet! Nice job by the team there. #sxsw</td>\n",
       "      <td>Android App</td>\n",
       "      <td>Positive emotion</td>\n",
       "    </tr>\n",
       "    <tr>\n",
       "      <th>29</th>\n",
       "      <td>Very smart from @madebymany #hollergram iPad app for #sxsw! http://t.co/A3xvWc6 (may leave my vuvuzela at home now)</td>\n",
       "      <td>iPad or iPhone App</td>\n",
       "      <td>Positive emotion</td>\n",
       "    </tr>\n",
       "    <tr>\n",
       "      <th>30</th>\n",
       "      <td>You must have this app for your iPad if you are going to #SXSW http://itunes.apple.com/us/app/holler-gram/id420666439?mt=8 #hollergram</td>\n",
       "      <td>iPad or iPhone App</td>\n",
       "      <td>Positive emotion</td>\n",
       "    </tr>\n",
       "    <tr>\n",
       "      <th>31</th>\n",
       "      <td>Attn: All  #SXSW frineds, @mention Register for #GDGTLive  and see Cobra iRadar for Android. {link}</td>\n",
       "      <td>unspecified</td>\n",
       "      <td>No emotion toward brand or product</td>\n",
       "    </tr>\n",
       "    <tr>\n",
       "      <th>32</th>\n",
       "      <td>Anyone at  #sxsw want to sell their old iPad?</td>\n",
       "      <td>unspecified</td>\n",
       "      <td>No emotion toward brand or product</td>\n",
       "    </tr>\n",
       "    <tr>\n",
       "      <th>33</th>\n",
       "      <td>Anyone at  #SXSW who bought the new iPad want to sell their older iPad to me?</td>\n",
       "      <td>unspecified</td>\n",
       "      <td>No emotion toward brand or product</td>\n",
       "    </tr>\n",
       "    <tr>\n",
       "      <th>34</th>\n",
       "      <td>At #sxsw.  Oooh. RT @mention Google to Launch Major New Social Network Called Circles, Possibly Today {link}</td>\n",
       "      <td>unspecified</td>\n",
       "      <td>No emotion toward brand or product</td>\n",
       "    </tr>\n",
       "    <tr>\n",
       "      <th>35</th>\n",
       "      <td>The best!  RT @mention Ha! First in line for #ipad2 at #sxsw &amp;quot;pop-up&amp;quot; Apple store was an event planner #eventprofs #pcma #engage365</td>\n",
       "      <td>iPad</td>\n",
       "      <td>Positive emotion</td>\n",
       "    </tr>\n",
       "    <tr>\n",
       "      <th>36</th>\n",
       "      <td>SPIN Play - a new concept in music discovery for your iPad from @mention &amp;amp; spin.com {link} #iTunes #sxsw @mention</td>\n",
       "      <td>unspecified</td>\n",
       "      <td>No emotion toward brand or product</td>\n",
       "    </tr>\n",
       "    <tr>\n",
       "      <th>37</th>\n",
       "      <td>@mention  - False Alarm: Google Circles Not Coming NowÛÒand Probably Not Ever? - {link} #Google #Circles #Social #SXSW</td>\n",
       "      <td>Google</td>\n",
       "      <td>Negative emotion</td>\n",
       "    </tr>\n",
       "    <tr>\n",
       "      <th>38</th>\n",
       "      <td>VatorNews - Google And Apple Force Print Media to Evolve? {link} #sxsw</td>\n",
       "      <td>unspecified</td>\n",
       "      <td>No emotion toward brand or product</td>\n",
       "    </tr>\n",
       "    <tr>\n",
       "      <th>39</th>\n",
       "      <td>@mention  - Great weather to greet you for #sxsw! Still need a sweater at night..Apple putting up &amp;quot;flash store&amp;quot; downtown to sell iPad2</td>\n",
       "      <td>Apple</td>\n",
       "      <td>Positive emotion</td>\n",
       "    </tr>\n",
       "    <tr>\n",
       "      <th>40</th>\n",
       "      <td>HootSuite - HootSuite Mobile for #SXSW ~ Updates for iPhone, BlackBerry &amp;amp; Android: Whether youÛªre getting friend... {link}</td>\n",
       "      <td>unspecified</td>\n",
       "      <td>No emotion toward brand or product</td>\n",
       "    </tr>\n",
       "    <tr>\n",
       "      <th>41</th>\n",
       "      <td>Hey #SXSW - How long do you think it takes us to make an iPhone case? answer @mention using #zazzlesxsw and weÛªll make you one!</td>\n",
       "      <td>unspecified</td>\n",
       "      <td>No emotion toward brand or product</td>\n",
       "    </tr>\n",
       "    <tr>\n",
       "      <th>42</th>\n",
       "      <td>Mashable! - The iPad 2 Takes Over SXSW [VIDEO] #ipad #sxsw #gadgets {link}</td>\n",
       "      <td>unspecified</td>\n",
       "      <td>No emotion toward brand or product</td>\n",
       "    </tr>\n",
       "    <tr>\n",
       "      <th>43</th>\n",
       "      <td>For I-Pad ?RT @mention New #UberSocial for #iPhone now in the App Store includes UberGuide to #SXSW sponsored by ... {link}</td>\n",
       "      <td>unspecified</td>\n",
       "      <td>No emotion toward brand or product</td>\n",
       "    </tr>\n",
       "    <tr>\n",
       "      <th>44</th>\n",
       "      <td>#IPad2 's Û÷#SmartCoverÛª Opens to Instant Access - I should have waited to get one! - {link} #apple #SXSW</td>\n",
       "      <td>iPad or iPhone App</td>\n",
       "      <td>Positive emotion</td>\n",
       "    </tr>\n",
       "    <tr>\n",
       "      <th>45</th>\n",
       "      <td>Hand-Held Û÷HoboÛª: Drafthouse launches Û÷Hobo With a ShotgunÛª iPhone app #SXSW {link}</td>\n",
       "      <td>unspecified</td>\n",
       "      <td>Positive emotion</td>\n",
       "    </tr>\n",
       "    <tr>\n",
       "      <th>46</th>\n",
       "      <td>HOORAY RT ÛÏ@mention Apple Is Opening A Pop-Up Store In Austin For #SXSW | @mention {link}</td>\n",
       "      <td>Apple</td>\n",
       "      <td>Positive emotion</td>\n",
       "    </tr>\n",
       "    <tr>\n",
       "      <th>47</th>\n",
       "      <td>Orly....? ÛÏ@mention Google set to launch new social network #Circles today at #sxswÛ</td>\n",
       "      <td>unspecified</td>\n",
       "      <td>No emotion toward brand or product</td>\n",
       "    </tr>\n",
       "    <tr>\n",
       "      <th>48</th>\n",
       "      <td>wooooo!!! ÛÏ@mention Apple store downtown Austin open til Midnight. #sxswÛ</td>\n",
       "      <td>Apple</td>\n",
       "      <td>Positive emotion</td>\n",
       "    </tr>\n",
       "    <tr>\n",
       "      <th>49</th>\n",
       "      <td>Khoi Vinh (@mention says Conde Nast's headlong rush into iPad publishing was a &amp;quot;fundamental misunderstanding&amp;quot; of the platform #sxsw</td>\n",
       "      <td>unspecified</td>\n",
       "      <td>No emotion toward brand or product</td>\n",
       "    </tr>\n",
       "  </tbody>\n",
       "</table>\n",
       "</div>"
      ],
      "text/plain": [
       "                                                                                                                                                          tweet  \\\n",
       "0                               .@wesley83 I have a 3G iPhone. After 3 hrs tweeting at #RISE_Austin, it was dead!  I need to upgrade. Plugin stations at #SXSW.   \n",
       "1                   @jessedee Know about @fludapp ? Awesome iPad/iPhone app that you'll likely appreciate for its design. Also, they're giving free Ts at #SXSW   \n",
       "2                                                                               @swonderlin Can not wait for #iPad 2 also. They should sale them down at #SXSW.   \n",
       "3                                                                            @sxsw I hope this year's festival isn't as crashy as this year's iPhone app. #sxsw   \n",
       "4                           @sxtxstate great stuff on Fri #SXSW: Marissa Mayer (Google), Tim O'Reilly (tech books/conferences) &amp; Matt Mullenweg (Wordpress)   \n",
       "5                  @teachntech00 New iPad Apps For #SpeechTherapy And Communication Are Showcased At The #SXSW Conference http://ht.ly/49n4M #iear #edchat #asd   \n",
       "6                    #SXSW is just starting, #CTIA is around the corner and #googleio is only a hop skip and a jump from there, good time to be an #android fan   \n",
       "7                             Beautifully smart and simple idea RT @madebymany @thenextweb wrote about our #hollergram iPad app for #sxsw! http://bit.ly/ieaVOB   \n",
       "8                                                                      Counting down the days to #sxsw plus strong Canadian dollar means stock up on Apple gear   \n",
       "9                                        Excited to meet the @samsungmobileus at #sxsw so I can show them my Sprint Galaxy S still running Android 2.1.   #fail   \n",
       "10                            Find &amp; Start Impromptu Parties at #SXSW With @HurricaneParty http://bit.ly/gVLrIn I can't wait til the Android app comes out.   \n",
       "11                        Foursquare ups the game, just in time for #SXSW http://j.mp/grN7pK) - Still prefer @Gowalla by far, best looking Android app to date.   \n",
       "12               Gotta love this #SXSW Google Calendar featuring top parties/ show cases to check out.  RT @hamsandwich via @ischafer =&gt;http://bit.ly/aXZwxB   \n",
       "13                                                                                            Great #sxsw ipad app from @madebymany: http://tinyurl.com/4nqv92l   \n",
       "14                                                                           haha, awesomely rad iPad app by @madebymany http://bit.ly/hTdFim #hollergram #sxsw   \n",
       "15                                                                 Holler Gram for iPad on the iTunes App Store -  http://t.co/kfN3f5Q (via @marc_is_ken) #sxsw   \n",
       "16                             I just noticed DST is coming this weekend. How many iPhone users will be an hour late at SXSW come Sunday morning? #SXSW #iPhone   \n",
       "17                               Just added my #SXSW flights to @planely. Matching people on planes/airports. Also downloaded the @KLM iPhone app, nicely done.   \n",
       "18                                       Must have #SXSW app! RT @malbonster: Lovely review from Forbes for our SXSW iPad app Holler Gram - http://t.co/g4GZypV   \n",
       "19                                                   Need to buy an iPad2 while I'm in Austin at #sxsw. Not sure if I'll need to Q up at an Austin Apple store?   \n",
       "20                              Oh. My. God. The #SXSW app for iPad is pure, unadulterated awesome. It's easier to browse events on iPad than on the website!!!   \n",
       "21                                                                           Okay, this is really it: yay new @Foursquare for #Android app!!!!11 kthxbai. #sxsw   \n",
       "22                                                               Photo: Just installed the #SXSW iPhone app, which is really nice! http://tumblr.com/x6t1pi6av7   \n",
       "23             Really enjoying the changes in Gowalla 3.0 for Android! Looking forward to seeing what else they &amp; Foursquare have up their sleeves at #SXSW   \n",
       "24  RT @LaurieShook: I'm looking forward to the #SMCDallas pre #SXSW party Wed., and hoping I'll win an #iPad resulting from my shameless promotion.  #ChevySMC   \n",
       "25                                                  RT haha, awesomely rad iPad app by @madebymany http://bit.ly/hTdFim #hollergram #sxsw (via @michaelpiliero)   \n",
       "26                                                                         someone started an #austin @PartnerHub group in google groups, pre-#sxsw. great idea   \n",
       "27                  The new #4sq3 looks like it is going to rock. Update for iPhone and Android should push tonight http://bit.ly/etsbZk #SXSW #KeepAustinWeird   \n",
       "28                                                               They were right, the @gowalla 3 app on #android is sweeeeet! Nice job by the team there. #sxsw   \n",
       "29                                          Very smart from @madebymany #hollergram iPad app for #sxsw! http://t.co/A3xvWc6 (may leave my vuvuzela at home now)   \n",
       "30                       You must have this app for your iPad if you are going to #SXSW http://itunes.apple.com/us/app/holler-gram/id420666439?mt=8 #hollergram   \n",
       "31                                                          Attn: All  #SXSW frineds, @mention Register for #GDGTLive  and see Cobra iRadar for Android. {link}   \n",
       "32                                                                                                                Anyone at  #sxsw want to sell their old iPad?   \n",
       "33                                                                                Anyone at  #SXSW who bought the new iPad want to sell their older iPad to me?   \n",
       "34                                                 At #sxsw.  Oooh. RT @mention Google to Launch Major New Social Network Called Circles, Possibly Today {link}   \n",
       "35                The best!  RT @mention Ha! First in line for #ipad2 at #sxsw &quot;pop-up&quot; Apple store was an event planner #eventprofs #pcma #engage365   \n",
       "36                                        SPIN Play - a new concept in music discovery for your iPad from @mention &amp; spin.com {link} #iTunes #sxsw @mention   \n",
       "37                                      @mention  - False Alarm: Google Circles Not Coming NowÛÒand Probably Not Ever? - {link} #Google #Circles #Social #SXSW   \n",
       "38                                                                                       VatorNews - Google And Apple Force Print Media to Evolve? {link} #sxsw   \n",
       "39             @mention  - Great weather to greet you for #sxsw! Still need a sweater at night..Apple putting up &quot;flash store&quot; downtown to sell iPad2   \n",
       "40                             HootSuite - HootSuite Mobile for #SXSW ~ Updates for iPhone, BlackBerry &amp; Android: Whether youÛªre getting friend... {link}   \n",
       "41                            Hey #SXSW - How long do you think it takes us to make an iPhone case? answer @mention using #zazzlesxsw and weÛªll make you one!   \n",
       "42                                                                                   Mashable! - The iPad 2 Takes Over SXSW [VIDEO] #ipad #sxsw #gadgets {link}   \n",
       "43                                  For I-Pad ?RT @mention New #UberSocial for #iPhone now in the App Store includes UberGuide to #SXSW sponsored by ... {link}   \n",
       "44                                                 #IPad2 's Û÷#SmartCoverÛª Opens to Instant Access - I should have waited to get one! - {link} #apple #SXSW   \n",
       "45                                                                  Hand-Held Û÷HoboÛª: Drafthouse launches Û÷Hobo With a ShotgunÛª iPhone app #SXSW {link}   \n",
       "46                                                                  HOORAY RT ÛÏ@mention Apple Is Opening A Pop-Up Store In Austin For #SXSW | @mention {link}   \n",
       "47                                                                     Orly....? ÛÏ@mention Google set to launch new social network #Circles today at #sxswÛ   \n",
       "48                                                                                wooooo!!! ÛÏ@mention Apple store downtown Austin open til Midnight. #sxswÛ   \n",
       "49                Khoi Vinh (@mention says Conde Nast's headlong rush into iPad publishing was a &quot;fundamental misunderstanding&quot; of the platform #sxsw   \n",
       "\n",
       "                       product_name                           sentiment  \n",
       "0                            iPhone                    Negative emotion  \n",
       "1                iPad or iPhone App                    Positive emotion  \n",
       "2                              iPad                    Positive emotion  \n",
       "3                iPad or iPhone App                    Negative emotion  \n",
       "4                            Google                    Positive emotion  \n",
       "5                       unspecified  No emotion toward brand or product  \n",
       "6                           Android                    Positive emotion  \n",
       "7                iPad or iPhone App                    Positive emotion  \n",
       "8                             Apple                    Positive emotion  \n",
       "9                           Android                    Positive emotion  \n",
       "10                      Android App                    Positive emotion  \n",
       "11                      Android App                    Positive emotion  \n",
       "12  Other Google product or service                    Positive emotion  \n",
       "13               iPad or iPhone App                    Positive emotion  \n",
       "14               iPad or iPhone App                    Positive emotion  \n",
       "15                      unspecified  No emotion toward brand or product  \n",
       "16                           iPhone                    Negative emotion  \n",
       "17               iPad or iPhone App                    Positive emotion  \n",
       "18               iPad or iPhone App                    Positive emotion  \n",
       "19                             iPad                    Positive emotion  \n",
       "20               iPad or iPhone App                    Positive emotion  \n",
       "21                      Android App                    Positive emotion  \n",
       "22               iPad or iPhone App                    Positive emotion  \n",
       "23                      Android App                    Positive emotion  \n",
       "24                             iPad                    Positive emotion  \n",
       "25               iPad or iPhone App                    Positive emotion  \n",
       "26  Other Google product or service                    Positive emotion  \n",
       "27               iPad or iPhone App                    Positive emotion  \n",
       "28                      Android App                    Positive emotion  \n",
       "29               iPad or iPhone App                    Positive emotion  \n",
       "30               iPad or iPhone App                    Positive emotion  \n",
       "31                      unspecified  No emotion toward brand or product  \n",
       "32                      unspecified  No emotion toward brand or product  \n",
       "33                      unspecified  No emotion toward brand or product  \n",
       "34                      unspecified  No emotion toward brand or product  \n",
       "35                             iPad                    Positive emotion  \n",
       "36                      unspecified  No emotion toward brand or product  \n",
       "37                           Google                    Negative emotion  \n",
       "38                      unspecified  No emotion toward brand or product  \n",
       "39                            Apple                    Positive emotion  \n",
       "40                      unspecified  No emotion toward brand or product  \n",
       "41                      unspecified  No emotion toward brand or product  \n",
       "42                      unspecified  No emotion toward brand or product  \n",
       "43                      unspecified  No emotion toward brand or product  \n",
       "44               iPad or iPhone App                    Positive emotion  \n",
       "45                      unspecified                    Positive emotion  \n",
       "46                            Apple                    Positive emotion  \n",
       "47                      unspecified  No emotion toward brand or product  \n",
       "48                            Apple                    Positive emotion  \n",
       "49                      unspecified  No emotion toward brand or product  "
      ]
     },
     "execution_count": 10,
     "metadata": {},
     "output_type": "execute_result"
    }
   ],
   "source": [
    "#allow for display of full content and preview \n",
    "pd.set_option('display.max_colwidth', None)\n",
    "data.head(50)"
   ]
  },
  {
   "cell_type": "code",
   "execution_count": 11,
   "id": "04133f59-948e-40aa-8dc0-24cc87f24ab7",
   "metadata": {},
   "outputs": [
    {
     "data": {
      "text/plain": [
       "unspecified                        5788\n",
       "iPad                                945\n",
       "Apple                               659\n",
       "iPad or iPhone App                  469\n",
       "Google                              428\n",
       "iPhone                              296\n",
       "Other Google product or service     293\n",
       "Android App                          80\n",
       "Android                              77\n",
       "Other Apple product or service       35\n",
       "Name: product_name, dtype: int64"
      ]
     },
     "execution_count": 11,
     "metadata": {},
     "output_type": "execute_result"
    }
   ],
   "source": [
    "data['product_name'].value_counts()"
   ]
  },
  {
   "cell_type": "code",
   "execution_count": 12,
   "id": "f9bc9530-2766-418e-a4f6-cf52ff8a90bb",
   "metadata": {},
   "outputs": [
    {
     "data": {
      "text/plain": [
       "No emotion toward brand or product    5375\n",
       "Positive emotion                      2970\n",
       "Negative emotion                       569\n",
       "I can't tell                           156\n",
       "Name: sentiment, dtype: int64"
      ]
     },
     "execution_count": 12,
     "metadata": {},
     "output_type": "execute_result"
    }
   ],
   "source": [
    "data['sentiment'].value_counts()"
   ]
  },
  {
   "cell_type": "markdown",
   "id": "2f1ca78d-b6c7-4641-a76f-2f71eaba3488",
   "metadata": {},
   "source": [
    "#### Consolidate and Clean Sentiment Column:\n",
    "I'll combine \"I can't tell\" with \"No emotion toward brand or product\" and rename \"neutral\" (\"i can't tell\" contains less than 2% of data), as well as shorten the other labels to \"positive\" and \"negative.\""
   ]
  },
  {
   "cell_type": "code",
   "execution_count": 13,
   "id": "f6622e70-9cbe-437f-9107-e1e7b9cbacdb",
   "metadata": {},
   "outputs": [
    {
     "data": {
      "text/plain": [
       "neutral     5531\n",
       "positive    2970\n",
       "negative     569\n",
       "Name: sentiment, dtype: int64"
      ]
     },
     "execution_count": 13,
     "metadata": {},
     "output_type": "execute_result"
    }
   ],
   "source": [
    "#create function to change sentiments to positive/negative/neutral\n",
    "def clean_stmt(df, column): \n",
    "    stmt_list = [] #empty list for new sentiment label\n",
    "    for i in df[column]:\n",
    "        if i == \"No emotion toward brand or product\": \n",
    "            stmt_list.append('neutral') \n",
    "        elif i == \"I can't tell\": \n",
    "            stmt_list.append('neutral') \n",
    "        elif i == \"Positive emotion\": \n",
    "            stmt_list.append('positive') \n",
    "        elif i == \"Negative emotion\": \n",
    "            stmt_list.append('negative') \n",
    "    df['sentiment'] = stmt_list #set column to new names\n",
    "    return df\n",
    "\n",
    "data = clean_stmt(data, 'sentiment') #use clean_stmt function on data\n",
    "data['sentiment'].value_counts() #check updated value_counts()"
   ]
  },
  {
   "cell_type": "markdown",
   "id": "1dbf1eab-79e8-40a7-a5f4-c0dd9dedf719",
   "metadata": {},
   "source": [
    "#### Create Brand Column:\n",
    " Here I create a function that will loop through the product_names column to return a brand, then apply the function to the data."
   ]
  },
  {
   "cell_type": "code",
   "execution_count": 14,
   "id": "992fd1f2-46b8-49e8-958b-a2695fd995d2",
   "metadata": {},
   "outputs": [],
   "source": [
    "#create function to get brand column using product_name column\n",
    "def get_brand(name):\n",
    "    if 'apple' in name.lower() or 'ipad' in name.lower() or 'iphone' in name.lower():\n",
    "        return 'Apple'\n",
    "    elif 'google' in name.lower() or 'android' in name.lower():\n",
    "        return 'Google'\n",
    "    else:\n",
    "        return 'Unspecified'\n",
    "\n",
    "#apply function\n",
    "data['brand'] = data['product_name'].apply(get_brand)"
   ]
  },
  {
   "cell_type": "code",
   "execution_count": 15,
   "id": "a7b442a7-9c5f-4d40-8abc-040db4ea9829",
   "metadata": {},
   "outputs": [
    {
     "data": {
      "text/plain": [
       "Unspecified    5788\n",
       "Apple          2404\n",
       "Google          878\n",
       "Name: brand, dtype: int64"
      ]
     },
     "execution_count": 15,
     "metadata": {},
     "output_type": "execute_result"
    }
   ],
   "source": [
    "data['brand'].value_counts()"
   ]
  },
  {
   "cell_type": "code",
   "execution_count": 16,
   "id": "29c74470-a5a9-45b1-8f1d-7f19135725ea",
   "metadata": {},
   "outputs": [
    {
     "data": {
      "image/png": "[encoded data removed]",
      "text/plain": [
       "<Figure size 720x432 with 1 Axes>"
      ]
     },
     "metadata": {
      "needs_background": "light"
     },
     "output_type": "display_data"
    },
    {
     "data": {
      "text/plain": [
       "<Figure size 432x288 with 0 Axes>"
      ]
     },
     "metadata": {},
     "output_type": "display_data"
    }
   ],
   "source": [
    "#plot sentiment distribution by brand\n",
    "#groupby and aggregate for plot\n",
    "initial_sentiment_by_brand = data.groupby(['brand', 'sentiment']).size().reset_index(name='count')\n",
    "\n",
    "#define brand_order and colors for sentiments\n",
    "brand_order = ['Apple', 'Google', 'Unspecified']\n",
    "sentiment_palette = {'positive': 'green', 'neutral': 'grey', 'negative': 'red'}\n",
    "\n",
    "\n",
    "plt.figure(figsize=(10, 6))\n",
    "sns.barplot(data=initial_sentiment_by_brand, x='brand',y='count',hue='sentiment', palette=sentiment_palette, order=brand_order)\n",
    "plt.title('Initial Tweet Sentiment Distribution Across Product Brands')\n",
    "plt.xlabel('Brand')\n",
    "plt.ylabel('Number of Tweets')\n",
    "plt.legend(title='Sentiment')\n",
    "plt.xticks(rotation=0)\n",
    "plt.tight_layout()\n",
    "plt.show();\n",
    "#save bar plot\n",
    "plt.savefig('initial_sentiment_distribution.png')"
   ]
  },
  {
   "cell_type": "markdown",
   "id": "f2797d90-8a0c-4c05-9b05-2b72d47e76c0",
   "metadata": {},
   "source": [
    "#### Update Brand Column:\n",
    "The contributors were only asked to fill in the product_name if there was a positive or negative emotion found in the tweet. This means that there is still product information in the neutral tweets. I create a function to loop through the rows with brand currently \"unspecified\" and look for product_names in those tweets to update the brand column."
   ]
  },
  {
   "cell_type": "code",
   "execution_count": 17,
   "id": "62272e5f-4e88-453d-bdfd-82dc146aed14",
   "metadata": {},
   "outputs": [
    {
     "data": {
      "text/plain": [
       "Apple          5522\n",
       "Google         2789\n",
       "Unspecified     759\n",
       "Name: brand, dtype: int64"
      ]
     },
     "execution_count": 17,
     "metadata": {},
     "output_type": "execute_result"
    }
   ],
   "source": [
    "def refine_brand_assignment(row):    \n",
    "    #loop through rows where brand is \"unspecified\" \n",
    "    if row['brand'] == 'Unspecified':\n",
    "        tweet = row['tweet'].lower() #(lowercasing text in tweet column)\n",
    "        #check for Apple product keywords in the tweet\n",
    "        if any(keyword in tweet for keyword in ['apple', 'ipad', 'iphone']):\n",
    "            return 'Apple'\n",
    "        #check for Google product keywords in the tweet\n",
    "        if any(keyword in tweet for keyword in ['google', 'android']):\n",
    "            return 'Google'\n",
    "        #if no keywords found, keep it as 'Unspecified'\n",
    "        return 'Unspecified'\n",
    "    \n",
    "    #if brand is already 'Apple' or 'Google', return the existing value\n",
    "    return row['brand']\n",
    "\n",
    "#apply function to data['brand'] , axis=1 tells to apply row-wise\n",
    "data['brand'] = data.apply(refine_brand_assignment, axis=1)\n",
    "\n",
    "data['brand'].value_counts()"
   ]
  },
  {
   "cell_type": "code",
   "execution_count": 18,
   "id": "cdcc509f-3f28-4ac9-b850-ef0a9b69b25a",
   "metadata": {},
   "outputs": [
    {
     "data": {
      "image/png": "[encoded data removed]",
      "text/plain": [
       "<Figure size 720x432 with 1 Axes>"
      ]
     },
     "metadata": {
      "needs_background": "light"
     },
     "output_type": "display_data"
    },
    {
     "data": {
      "text/plain": [
       "<Figure size 432x288 with 0 Axes>"
      ]
     },
     "metadata": {},
     "output_type": "display_data"
    }
   ],
   "source": [
    "#plot updated sentiment distribution by brand\n",
    "#groupby and aggregate for plot\n",
    "updated_sentiment_by_brand = data.groupby(['brand', 'sentiment']).size().reset_index(name='count')\n",
    "\n",
    "#define brand_order and colors for sentiments\n",
    "brand_order = ['Apple', 'Google', 'Unspecified']\n",
    "sentiment_palette = {'positive': 'green', 'neutral': 'grey', 'negative': 'red'}\n",
    "\n",
    "\n",
    "plt.figure(figsize=(10, 6))\n",
    "sns.barplot(data=updated_sentiment_by_brand, x='brand',y='count',hue='sentiment', palette=sentiment_palette, order=brand_order)\n",
    "plt.title('Updated Tweet Sentiment Distribution Across Product Brands')\n",
    "plt.xlabel('Brand')\n",
    "plt.ylabel('Number of Tweets')\n",
    "plt.legend(title='Sentiment')\n",
    "plt.xticks(rotation=0)\n",
    "plt.tight_layout()\n",
    "plt.show();\n",
    "#save bar plot\n",
    "plt.savefig('updated_sentiment_distribution.png')"
   ]
  },
  {
   "cell_type": "code",
   "execution_count": 19,
   "id": "17db6192-a304-49cd-aa47-cc38b50c0a18",
   "metadata": {},
   "outputs": [
    {
     "data": {
      "text/html": [
       "<div>\n",
       "<style scoped>\n",
       "    .dataframe tbody tr th:only-of-type {\n",
       "        vertical-align: middle;\n",
       "    }\n",
       "\n",
       "    .dataframe tbody tr th {\n",
       "        vertical-align: top;\n",
       "    }\n",
       "\n",
       "    .dataframe thead th {\n",
       "        text-align: right;\n",
       "    }\n",
       "</style>\n",
       "<table border=\"1\" class=\"dataframe\">\n",
       "  <thead>\n",
       "    <tr style=\"text-align: right;\">\n",
       "      <th></th>\n",
       "      <th>tweet</th>\n",
       "      <th>product_name</th>\n",
       "      <th>sentiment</th>\n",
       "      <th>brand</th>\n",
       "    </tr>\n",
       "  </thead>\n",
       "  <tbody>\n",
       "    <tr>\n",
       "      <th>0</th>\n",
       "      <td>.@wesley83 I have a 3G iPhone. After 3 hrs tweeting at #RISE_Austin, it was dead!  I need to upgrade. Plugin stations at #SXSW.</td>\n",
       "      <td>iPhone</td>\n",
       "      <td>negative</td>\n",
       "      <td>Apple</td>\n",
       "    </tr>\n",
       "    <tr>\n",
       "      <th>1</th>\n",
       "      <td>@jessedee Know about @fludapp ? Awesome iPad/iPhone app that you'll likely appreciate for its design. Also, they're giving free Ts at #SXSW</td>\n",
       "      <td>iPad or iPhone App</td>\n",
       "      <td>positive</td>\n",
       "      <td>Apple</td>\n",
       "    </tr>\n",
       "    <tr>\n",
       "      <th>2</th>\n",
       "      <td>@swonderlin Can not wait for #iPad 2 also. They should sale them down at #SXSW.</td>\n",
       "      <td>iPad</td>\n",
       "      <td>positive</td>\n",
       "      <td>Apple</td>\n",
       "    </tr>\n",
       "    <tr>\n",
       "      <th>3</th>\n",
       "      <td>@sxsw I hope this year's festival isn't as crashy as this year's iPhone app. #sxsw</td>\n",
       "      <td>iPad or iPhone App</td>\n",
       "      <td>negative</td>\n",
       "      <td>Apple</td>\n",
       "    </tr>\n",
       "    <tr>\n",
       "      <th>4</th>\n",
       "      <td>@sxtxstate great stuff on Fri #SXSW: Marissa Mayer (Google), Tim O'Reilly (tech books/conferences) &amp;amp; Matt Mullenweg (Wordpress)</td>\n",
       "      <td>Google</td>\n",
       "      <td>positive</td>\n",
       "      <td>Google</td>\n",
       "    </tr>\n",
       "  </tbody>\n",
       "</table>\n",
       "</div>"
      ],
      "text/plain": [
       "                                                                                                                                         tweet  \\\n",
       "0              .@wesley83 I have a 3G iPhone. After 3 hrs tweeting at #RISE_Austin, it was dead!  I need to upgrade. Plugin stations at #SXSW.   \n",
       "1  @jessedee Know about @fludapp ? Awesome iPad/iPhone app that you'll likely appreciate for its design. Also, they're giving free Ts at #SXSW   \n",
       "2                                                              @swonderlin Can not wait for #iPad 2 also. They should sale them down at #SXSW.   \n",
       "3                                                           @sxsw I hope this year's festival isn't as crashy as this year's iPhone app. #sxsw   \n",
       "4          @sxtxstate great stuff on Fri #SXSW: Marissa Mayer (Google), Tim O'Reilly (tech books/conferences) &amp; Matt Mullenweg (Wordpress)   \n",
       "\n",
       "         product_name sentiment   brand  \n",
       "0              iPhone  negative   Apple  \n",
       "1  iPad or iPhone App  positive   Apple  \n",
       "2                iPad  positive   Apple  \n",
       "3  iPad or iPhone App  negative   Apple  \n",
       "4              Google  positive  Google  "
      ]
     },
     "execution_count": 19,
     "metadata": {},
     "output_type": "execute_result"
    }
   ],
   "source": [
    "data.head()"
   ]
  },
  {
   "cell_type": "code",
   "execution_count": null,
   "id": "103ff550-7ff3-41c4-a596-bc50e27d8994",
   "metadata": {},
   "outputs": [],
   "source": []
  },
  {
   "cell_type": "code",
   "execution_count": 20,
   "id": "91f46465-d1dc-407f-9ef9-53a482c58633",
   "metadata": {},
   "outputs": [],
   "source": [
    "def clean_tweet(text):\n",
    "    #lowercase the entire text\n",
    "    text = text.lower()\n",
    "    \n",
    "    #combine all URL/artifact/handle/HTML/punctuation removal into one regex pass\n",
    "    url_handle_pattern = r'https?:\\/\\/\\S+|www\\.[a-z]?\\.?(com)+|[a-z]+\\.(com)|@[A-Za-z0-9]+|{link}|\\[video\\]|&[a-z]+;|[ ]{2,}'\n",
    "    text = re.sub(url_handle_pattern, ' ', text) #replace all with space\n",
    "    \n",
    "   #remove everything that is NOT a lowercase letter, digit, or whitespace\n",
    "    text = re.sub(r'[^a-z0-9\\s]', '', text)\n",
    "    \n",
    "    #remove extra spaces created by the substitutions\n",
    "    text = re.sub(r'\\s+', ' ', text).strip()\n",
    "    \n",
    "    return text"
   ]
  },
  {
   "cell_type": "code",
   "execution_count": 21,
   "id": "63d4c8f3-7f07-4b77-8cd7-96eda23d1130",
   "metadata": {},
   "outputs": [
    {
     "name": "stdout",
     "output_type": "stream",
     "text": [
      "                                                                                                                                         tweet  \\\n",
      "0              .@wesley83 I have a 3G iPhone. After 3 hrs tweeting at #RISE_Austin, it was dead!  I need to upgrade. Plugin stations at #SXSW.   \n",
      "1  @jessedee Know about @fludapp ? Awesome iPad/iPhone app that you'll likely appreciate for its design. Also, they're giving free Ts at #SXSW   \n",
      "2                                                              @swonderlin Can not wait for #iPad 2 also. They should sale them down at #SXSW.   \n",
      "3                                                           @sxsw I hope this year's festival isn't as crashy as this year's iPhone app. #sxsw   \n",
      "4          @sxtxstate great stuff on Fri #SXSW: Marissa Mayer (Google), Tim O'Reilly (tech books/conferences) &amp; Matt Mullenweg (Wordpress)   \n",
      "\n",
      "                                                                                                      tweet_cleaned  \n",
      "0       i have a 3g iphone after 3 hrs tweeting at riseaustin it was dead i need to upgrade plugin stations at sxsw  \n",
      "1  know about awesome ipadiphone app that youll likely appreciate for its design also theyre giving free ts at sxsw  \n",
      "2                                                   can not wait for ipad 2 also they should sale them down at sxsw  \n",
      "3                                           i hope this years festival isnt as crashy as this years iphone app sxsw  \n",
      "4           great stuff on fri sxsw marissa mayer google tim oreilly tech booksconferences matt mullenweg wordpress  \n"
     ]
    }
   ],
   "source": [
    "data['tweet_cleaned'] = data['tweet'].apply(clean_tweet)\n",
    "\n",
    "print(data[['tweet', 'tweet_cleaned']].head())"
   ]
  },
  {
   "cell_type": "code",
   "execution_count": null,
   "id": "7d500a52-1f7d-4d08-823e-10e8456af104",
   "metadata": {},
   "outputs": [],
   "source": []
  },
  {
   "cell_type": "code",
   "execution_count": 22,
   "id": "1bafa67e-4f86-4faa-9856-cfc80977e06a",
   "metadata": {},
   "outputs": [
    {
     "name": "stdout",
     "output_type": "stream",
     "text": [
      "['a', 'about', 'above', 'after', 'again', 'against', 'ain', 'all', 'am', 'an', 'and', 'any', 'are', 'aren', \"aren't\", 'as', 'at', 'be', 'because', 'been', 'before', 'being', 'below', 'between', 'both', 'but', 'by', 'can', 'couldn', \"couldn't\", 'd', 'did', 'didn', \"didn't\", 'do', 'does', 'doesn', \"doesn't\", 'doing', 'don', \"don't\", 'down', 'during', 'each', 'few', 'for', 'from', 'further', 'had', 'hadn', \"hadn't\", 'has', 'hasn', \"hasn't\", 'have', 'haven', \"haven't\", 'having', 'he', \"he'd\", \"he'll\", \"he's\", 'her', 'here', 'hers', 'herself', 'him', 'himself', 'his', 'how', 'i', \"i'd\", \"i'll\", \"i'm\", \"i've\", 'if', 'in', 'into', 'is', 'isn', \"isn't\", 'it', \"it'd\", \"it'll\", \"it's\", 'its', 'itself', 'just', 'll', 'm', 'ma', 'me', 'mightn', \"mightn't\", 'more', 'most', 'mustn', \"mustn't\", 'my', 'myself', 'needn', \"needn't\", 'no', 'nor', 'not', 'now', 'o', 'of', 'off', 'on', 'once', 'only', 'or', 'other', 'our', 'ours', 'ourselves', 'out', 'over', 'own', 're', 's', 'same', 'shan', \"shan't\", 'she', \"she'd\", \"she'll\", \"she's\", 'should', \"should've\", 'shouldn', \"shouldn't\", 'so', 'some', 'such', 't', 'than', 'that', \"that'll\", 'the', 'their', 'theirs', 'them', 'themselves', 'then', 'there', 'these', 'they', \"they'd\", \"they'll\", \"they're\", \"they've\", 'this', 'those', 'through', 'to', 'too', 'under', 'until', 'up', 've', 'very', 'was', 'wasn', \"wasn't\", 'we', \"we'd\", \"we'll\", \"we're\", \"we've\", 'were', 'weren', \"weren't\", 'what', 'when', 'where', 'which', 'while', 'who', 'whom', 'why', 'will', 'with', 'won', \"won't\", 'wouldn', \"wouldn't\", 'y', 'you', \"you'd\", \"you'll\", \"you're\", \"you've\", 'your', 'yours', 'yourself', 'yourselves']\n"
     ]
    }
   ],
   "source": [
    "nltk_stopwords = stopwords.words('english') #Pulling up NLTK stopwords\n",
    "nltk_stopwords.sort() #Sorting stopwords alphabetically\n",
    "print(nltk_stopwords) #Printing list of sorted NLTK stopwords"
   ]
  },
  {
   "cell_type": "code",
   "execution_count": 23,
   "id": "9aadbc2b-3692-4506-a347-4229faf9e8dd",
   "metadata": {},
   "outputs": [
    {
     "name": "stdout",
     "output_type": "stream",
     "text": [
      "Top 30 Most Frequent Words (Post-Cleaning):\n",
      "       word  count\n",
      "0      sxsw   9525\n",
      "1       the   4414\n",
      "2        to   3574\n",
      "3        at   3097\n",
      "4        rt   2949\n",
      "5       for   2543\n",
      "6      ipad   2437\n",
      "7    google   2403\n",
      "8         a   2309\n",
      "9     apple   2202\n",
      "10       in   1929\n",
      "11       of   1713\n",
      "12       is   1707\n",
      "13      and   1616\n",
      "14   iphone   1518\n",
      "15    store   1472\n",
      "16       on   1328\n",
      "17        i   1100\n",
      "18        2   1097\n",
      "19      new   1082\n",
      "20   austin    955\n",
      "21      you    925\n",
      "22       an    866\n",
      "23     with    865\n",
      "24       up    829\n",
      "25       my    823\n",
      "26      app    814\n",
      "27       it    767\n",
      "28  circles    663\n",
      "29   launch    646\n"
     ]
    }
   ],
   "source": [
    "#want to find my own stopwords: \n",
    "#tokenize clean tweet column\n",
    "all_cleaned_tokens = data['tweet_cleaned'].str.split(expand=True).stack()\n",
    "\n",
    "#frequency distribution of all words\n",
    "fdist_all = FreqDist(all_cleaned_tokens)\n",
    "\n",
    "#get count of top 30 most frequent words\n",
    "top_words_df = pd.DataFrame(fdist_all.most_common(30), \n",
    "                            columns=['word', 'count'])\n",
    "\n",
    "print(\"Top 30 Most Frequent Words (Post-Cleaning):\")\n",
    "print(top_words_df)"
   ]
  },
  {
   "cell_type": "code",
   "execution_count": 24,
   "id": "48669e24-16e4-438c-83b0-1911957db1d3",
   "metadata": {},
   "outputs": [],
   "source": [
    "#define custom stopwords\n",
    "custom_stopwords = [\n",
    "    'sxsw', 'rt', 'austin', \n",
    "    'the', 'to', 'at', 'for', 'a', 'in', 'of', \n",
    "    'is', 'and', 'on', 'an', 'with', 'up', 'my', 'it'\n",
    "]\n"
   ]
  },
  {
   "cell_type": "code",
   "execution_count": 26,
   "id": "d388a167-2fe6-43e6-9a88-86f8c349970b",
   "metadata": {},
   "outputs": [],
   "source": [
    "stemmer = PorterStemmer()\n",
    "custom_stopwords_set = set(custom_stopwords)"
   ]
  },
  {
   "cell_type": "code",
   "execution_count": 27,
   "id": "bf8b7bf9-70c4-4ec4-85ec-e90664bc4b51",
   "metadata": {},
   "outputs": [],
   "source": [
    "def filter_and_stem(text, stop_words_set, stemmer_obj):\n",
    "    \"\"\"Tokenizes, filters out stopwords, and applies stemming to the text.\"\"\"\n",
    "    #tokenize\n",
    "    tokens = text.split()\n",
    "    \n",
    "    stemmed_words = []\n",
    "    \n",
    "    for word in tokens:\n",
    "        #filter out stopwords\n",
    "        if word not in stop_words_set:\n",
    "            #apply stemming\n",
    "            stemmed_word = stemmer_obj.stem(word)\n",
    "            stemmed_words.append(stemmed_word)\n",
    "            \n",
    "    #rejoin processed tokens into single string\n",
    "    return ' '.join(stemmed_words)"
   ]
  },
  {
   "cell_type": "code",
   "execution_count": 28,
   "id": "b1a70559-77a2-42bb-a3e5-cb8bdff2c23d",
   "metadata": {},
   "outputs": [
    {
     "name": "stdout",
     "output_type": "stream",
     "text": [
      "                                                                                                      tweet_cleaned  \\\n",
      "0       i have a 3g iphone after 3 hrs tweeting at riseaustin it was dead i need to upgrade plugin stations at sxsw   \n",
      "1  know about awesome ipadiphone app that youll likely appreciate for its design also theyre giving free ts at sxsw   \n",
      "2                                                   can not wait for ipad 2 also they should sale them down at sxsw   \n",
      "3                                           i hope this years festival isnt as crashy as this years iphone app sxsw   \n",
      "4           great stuff on fri sxsw marissa mayer google tim oreilly tech booksconferences matt mullenweg wordpress   \n",
      "\n",
      "                                                                                stemmed_text  \n",
      "0           i have 3g iphon after 3 hr tweet riseaustin wa dead i need upgrad plugin station  \n",
      "1  know about awesom ipadiphon app that youll like appreci it design also theyr give free ts  \n",
      "2                                        can not wait ipad 2 also they should sale them down  \n",
      "3                                i hope thi year festiv isnt as crashi as thi year iphon app  \n",
      "4  great stuff fri marissa mayer googl tim oreilli tech booksconfer matt mullenweg wordpress  \n"
     ]
    }
   ],
   "source": [
    "data['stemmed_text'] = data['tweet_cleaned'].apply(\n",
    "    lambda x: filter_and_stem(x, custom_stopwords_set, stemmer))\n",
    "print(data[['tweet_cleaned', 'stemmed_text']].head())"
   ]
  },
  {
   "cell_type": "code",
   "execution_count": 46,
   "id": "c2c2725c-6f59-465c-9c77-bafee69f4496",
   "metadata": {},
   "outputs": [],
   "source": [
    "#define feature and target\n",
    "X = data[['stemmed_text']] \n",
    "y = data['sentiment']"
   ]
  },
  {
   "cell_type": "code",
   "execution_count": 47,
   "id": "d61a9888-b8ca-430a-854e-458f28f3957d",
   "metadata": {},
   "outputs": [],
   "source": [
    "#traintestsplit using stratify=y as the target has large class imbalance\n",
    "X_train, X_test, y_train, y_test = train_test_split(X, y, test_size=0.3, random_state=42, stratify=y)"
   ]
  },
  {
   "cell_type": "code",
   "execution_count": 48,
   "id": "324c7a9f-f68d-4a3b-9f75-92678aa5d79c",
   "metadata": {},
   "outputs": [
    {
     "data": {
      "text/html": [
       "<div>\n",
       "<style scoped>\n",
       "    .dataframe tbody tr th:only-of-type {\n",
       "        vertical-align: middle;\n",
       "    }\n",
       "\n",
       "    .dataframe tbody tr th {\n",
       "        vertical-align: top;\n",
       "    }\n",
       "\n",
       "    .dataframe thead th {\n",
       "        text-align: right;\n",
       "    }\n",
       "</style>\n",
       "<table border=\"1\" class=\"dataframe\">\n",
       "  <thead>\n",
       "    <tr style=\"text-align: right;\">\n",
       "      <th></th>\n",
       "      <th>stemmed_text</th>\n",
       "    </tr>\n",
       "  </thead>\n",
       "  <tbody>\n",
       "    <tr>\n",
       "      <th>0</th>\n",
       "      <td>i have 3g iphon after 3 hr tweet riseaustin wa dead i need upgrad plugin station</td>\n",
       "    </tr>\n",
       "    <tr>\n",
       "      <th>1</th>\n",
       "      <td>know about awesom ipadiphon app that youll like appreci it design also theyr give free ts</td>\n",
       "    </tr>\n",
       "    <tr>\n",
       "      <th>2</th>\n",
       "      <td>can not wait ipad 2 also they should sale them down</td>\n",
       "    </tr>\n",
       "    <tr>\n",
       "      <th>3</th>\n",
       "      <td>i hope thi year festiv isnt as crashi as thi year iphon app</td>\n",
       "    </tr>\n",
       "    <tr>\n",
       "      <th>4</th>\n",
       "      <td>great stuff fri marissa mayer googl tim oreilli tech booksconfer matt mullenweg wordpress</td>\n",
       "    </tr>\n",
       "  </tbody>\n",
       "</table>\n",
       "</div>"
      ],
      "text/plain": [
       "                                                                                stemmed_text\n",
       "0           i have 3g iphon after 3 hr tweet riseaustin wa dead i need upgrad plugin station\n",
       "1  know about awesom ipadiphon app that youll like appreci it design also theyr give free ts\n",
       "2                                        can not wait ipad 2 also they should sale them down\n",
       "3                                i hope thi year festiv isnt as crashi as thi year iphon app\n",
       "4  great stuff fri marissa mayer googl tim oreilli tech booksconfer matt mullenweg wordpress"
      ]
     },
     "execution_count": 48,
     "metadata": {},
     "output_type": "execute_result"
    }
   ],
   "source": [
    "X.head()"
   ]
  },
  {
   "cell_type": "code",
   "execution_count": 49,
   "id": "573639fb-8db2-4daa-9bbf-f2ddbbc4154e",
   "metadata": {},
   "outputs": [
    {
     "data": {
      "text/plain": [
       "0    negative\n",
       "1    positive\n",
       "2    positive\n",
       "3    negative\n",
       "4    positive\n",
       "Name: sentiment, dtype: object"
      ]
     },
     "execution_count": 49,
     "metadata": {},
     "output_type": "execute_result"
    }
   ],
   "source": [
    "y.head()"
   ]
  },
  {
   "cell_type": "code",
   "execution_count": 50,
   "id": "398ccc81-c9c9-42e5-b589-29b14640121d",
   "metadata": {},
   "outputs": [
    {
     "data": {
      "text/html": [
       "<div>\n",
       "<style scoped>\n",
       "    .dataframe tbody tr th:only-of-type {\n",
       "        vertical-align: middle;\n",
       "    }\n",
       "\n",
       "    .dataframe tbody tr th {\n",
       "        vertical-align: top;\n",
       "    }\n",
       "\n",
       "    .dataframe thead th {\n",
       "        text-align: right;\n",
       "    }\n",
       "</style>\n",
       "<table border=\"1\" class=\"dataframe\">\n",
       "  <thead>\n",
       "    <tr style=\"text-align: right;\">\n",
       "      <th></th>\n",
       "      <th>stemmed_text</th>\n",
       "    </tr>\n",
       "  </thead>\n",
       "  <tbody>\n",
       "    <tr>\n",
       "      <th>3475</th>\n",
       "      <td>1230pm hilton 615ab who go android develop meetup im look forward meet</td>\n",
       "    </tr>\n",
       "    <tr>\n",
       "      <th>4893</th>\n",
       "      <td>googl doodl kind social agenda remind us fact event that belong all us googledoodl</td>\n",
       "    </tr>\n",
       "    <tr>\n",
       "      <th>8458</th>\n",
       "      <td>googl math day wave buzz circl googl circl fail</td>\n",
       "    </tr>\n",
       "    <tr>\n",
       "      <th>5855</th>\n",
       "      <td>googl launch new social network circl possibl today</td>\n",
       "    </tr>\n",
       "    <tr>\n",
       "      <th>3160</th>\n",
       "      <td>fire shot checkin reward titl start</td>\n",
       "    </tr>\n",
       "  </tbody>\n",
       "</table>\n",
       "</div>"
      ],
      "text/plain": [
       "                                                                            stemmed_text\n",
       "3475              1230pm hilton 615ab who go android develop meetup im look forward meet\n",
       "4893  googl doodl kind social agenda remind us fact event that belong all us googledoodl\n",
       "8458                                     googl math day wave buzz circl googl circl fail\n",
       "5855                                 googl launch new social network circl possibl today\n",
       "3160                                                 fire shot checkin reward titl start"
      ]
     },
     "execution_count": 50,
     "metadata": {},
     "output_type": "execute_result"
    }
   ],
   "source": [
    "X_train.head()"
   ]
  },
  {
   "cell_type": "code",
   "execution_count": 51,
   "id": "d6204488-a854-438f-8ea2-ac59a0540a5f",
   "metadata": {},
   "outputs": [
    {
     "data": {
      "text/plain": [
       "3475     neutral\n",
       "4893    positive\n",
       "8458     neutral\n",
       "5855     neutral\n",
       "3160     neutral\n",
       "Name: sentiment, dtype: object"
      ]
     },
     "execution_count": 51,
     "metadata": {},
     "output_type": "execute_result"
    }
   ],
   "source": [
    "y_train.head()"
   ]
  },
  {
   "cell_type": "code",
   "execution_count": 54,
   "id": "527bb6bb-f156-4730-9a30-21a7632a403f",
   "metadata": {},
   "outputs": [],
   "source": [
    "#create simple baseline pipeline:\n",
    "#define vectorizer\n",
    "count_vectorizer = CountVectorizer(\n",
    "    stop_words=None,    #tweets already pre-filtered for stopwords\n",
    "    preprocessor=None,  #tweets already pre-cleaned\n",
    "    tokenizer=lambda x: x.split(), #uses space as the delimiter for pre-tokenized text\n",
    "    ngram_range=(1, 1)  #using unigrams only for the simple baseline\n",
    ")\n",
    "\n",
    "#define baseline model\n",
    "baseline_classifier = MultinomialNB()\n",
    "\n",
    "#build pipeline\n",
    "#since X_train is DataFrame,  must pass the column's values (1D array) to pipeline fit method to avoid dimensionality errors\n",
    "count_baseline_pipe = Pipeline(steps=[\n",
    "    ('vectorizer', count_vectorizer),\n",
    "    ('classifier', baseline_classifier)\n",
    "])"
   ]
  },
  {
   "cell_type": "code",
   "execution_count": 55,
   "id": "290a67fa-0475-4e6a-a0ee-7759e9d07be5",
   "metadata": {},
   "outputs": [
    {
     "name": "stdout",
     "output_type": "stream",
     "text": [
      "\n",
      "--- COUNT-BASED BASELINE MODEL PERFORMANCE (Stemmed Text) ---\n",
      "              precision    recall  f1-score   support\n",
      "\n",
      "    negative       0.47      0.14      0.22       171\n",
      "     neutral       0.72      0.79      0.75      1659\n",
      "    positive       0.57      0.56      0.56       891\n",
      "\n",
      "    accuracy                           0.67      2721\n",
      "   macro avg       0.59      0.49      0.51      2721\n",
      "weighted avg       0.66      0.67      0.66      2721\n",
      "\n"
     ]
    }
   ],
   "source": [
    "#fit pipeline using 1D array of strings from stemmed_text column\n",
    "count_baseline_pipe.fit(X_train['stemmed_text'].values, y_train)\n",
    "\n",
    "#predict on test set\n",
    "y_pred_baseline_count = count_baseline_pipe.predict(X_test['stemmed_text'].values)\n",
    "\n",
    "#evaluate baseline performance\n",
    "print(\"\\n--- COUNT-BASED BASELINE MODEL PERFORMANCE (Stemmed Text) ---\")\n",
    "print(classification_report(\n",
    "    y_test, \n",
    "    y_pred_baseline_count, \n",
    "    target_names=['negative', 'neutral', 'positive']\n",
    "))"
   ]
  },
  {
   "cell_type": "code",
   "execution_count": null,
   "id": "5c38d327-4240-41e4-8bb3-f0c691cacca6",
   "metadata": {},
   "outputs": [],
   "source": []
  },
  {
   "cell_type": "code",
   "execution_count": null,
   "id": "526e1ebc-6d1b-40a5-b2b9-b4b465e90150",
   "metadata": {},
   "outputs": [],
   "source": []
  },
  {
   "cell_type": "code",
   "execution_count": null,
   "id": "3dcfe74b-608a-427a-9cd8-d80d36690964",
   "metadata": {},
   "outputs": [],
   "source": []
  },
  {
   "cell_type": "code",
   "execution_count": null,
   "id": "4e49f5f9-b302-48b0-a63c-b05c22fe7605",
   "metadata": {},
   "outputs": [],
   "source": []
  },
  {
   "cell_type": "markdown",
   "id": "66220a1e-719a-4196-b865-2e0e0862ccfa",
   "metadata": {},
   "source": [
    "Define Custom stopwords in addition to 'english' stopwords.\n",
    "\n",
    "Define Custom Preprocessor (to remove @mentions and URLs).\n",
    "\n",
    "Define Transformers (using your custom_stopwords and preprocessor).\n",
    "\n",
    "Build ColumnTransformer and Pipeline.\n",
    "\n",
    "Fit the Pipeline."
   ]
  },
  {
   "cell_type": "markdown",
   "id": "bc9b6e48-60e5-475d-93a4-8b08fd176ee1",
   "metadata": {},
   "source": [
    "Going to use a TfidfVectorizer in the pipeline with a max_df of .90 but want to check most common words to add to stopwords"
   ]
  },
  {
   "cell_type": "markdown",
   "id": "3d27eee8-7cf8-4ee9-94b7-aa4d79fe443f",
   "metadata": {},
   "source": [
    "\n",
    "- lots about sxsw (south by southwest)\n",
    "- positive, neutral, negative sentiment\n",
    "- tokenize tweet, then can loop through the tweet tokens to pick out product tokens and then impute product in columns where its missing"
   ]
  },
  {
   "cell_type": "code",
   "execution_count": null,
   "id": "9a59dee4-65c8-4acb-8845-c06ad7d375d2",
   "metadata": {},
   "outputs": [],
   "source": []
  }
 ],
 "metadata": {
  "kernelspec": {
   "display_name": "Python (learn-env)",
   "language": "python",
   "name": "learn-env"
  },
  "language_info": {
   "codemirror_mode": {
    "name": "ipython",
    "version": 3
   },
   "file_extension": ".py",
   "mimetype": "text/x-python",
   "name": "python",
   "nbconvert_exporter": "python",
   "pygments_lexer": "ipython3",
   "version": "3.8.5"
  }
 },
 "nbformat": 4,
 "nbformat_minor": 5
}
