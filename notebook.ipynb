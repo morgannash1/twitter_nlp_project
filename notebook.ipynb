{
 "cells": [
  {
   "cell_type": "markdown",
   "id": "b5819d71-cfcb-4cc0-90f1-820bab26fdbe",
   "metadata": {},
   "source": [
    "# Twitter NLP Project"
   ]
  },
  {
   "cell_type": "markdown",
   "id": "f5ea5a1c-ec0a-4581-b694-30c9234d2631",
   "metadata": {},
   "source": [
    "Morgan Nash"
   ]
  },
  {
   "cell_type": "markdown",
   "id": "4fbf434d-727e-418a-bd00-0dd9a70e7fa9",
   "metadata": {},
   "source": [
    "November 2025"
   ]
  },
  {
   "cell_type": "code",
   "execution_count": null,
   "id": "a8d29165-f60f-4766-9396-5898328ff0e8",
   "metadata": {},
   "outputs": [],
   "source": []
  }
 ],
 "metadata": {
  "kernelspec": {
   "display_name": "Python (learn-env)",
   "language": "python",
   "name": "learn-env"
  },
  "language_info": {
   "codemirror_mode": {
    "name": "ipython",
    "version": 3
   },
   "file_extension": ".py",
   "mimetype": "text/x-python",
   "name": "python",
   "nbconvert_exporter": "python",
   "pygments_lexer": "ipython3",
   "version": "3.8.5"
  }
 },
 "nbformat": 4,
 "nbformat_minor": 5
}
